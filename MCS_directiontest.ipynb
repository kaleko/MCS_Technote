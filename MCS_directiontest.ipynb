{
 "cells": [
  {
   "cell_type": "code",
   "execution_count": 3,
   "metadata": {
    "collapsed": true
   },
   "outputs": [],
   "source": [
    "%matplotlib inline\n",
    "#from ROOT import TFile, TTree\n",
    "\n",
    "import numpy as np\n",
    "#from numpy import polyfit\n",
    "#from numpy import random\n",
    "import matplotlib.pylab as plt\n",
    "#from matplotlib.colors import LogNorm\n",
    "import pandas as pd\n",
    "#from matplotlib import gridspec\n",
    "#from scipy.stats import norm\n",
    "\n",
    "from root_numpy import root2array"
   ]
  },
  {
   "cell_type": "code",
   "execution_count": 4,
   "metadata": {
    "collapsed": false
   },
   "outputs": [
    {
     "name": "stdout",
     "output_type": "stream",
     "text": [
      "MCSBiasStudy_singlemu_mctracks_anaout_20cmseg_2res_bothscatters.root\r\n",
      "MCSBiasStudy_singlemu_recotracks_anaout_20cmseg_2res_bothscatters.root\r\n",
      "MCSBiasStudy_singletrack_data_anaout_20cmseg_2res_bothscatters.root\r\n",
      "MCSBiasStudy_singletrack_data_anaout_20cmseg_2res_bothscatters_BACKWARDS.root\r\n",
      "MCSBiasStudy_singletrack_data_anaout_20cmseg_2res_bothscatters_FORWARDS.root\r\n"
     ]
    }
   ],
   "source": [
    "filedir = '/Users/davidkaleko/larlite/UserDev/KalekoAna/scratch_ana/mac/MCS_paper_anafiles/'\n",
    "\n",
    "anatype = 'singletrack_data' #singlemu_recotracks, singletrack_data, singlemu_mctracks\n",
    "\n",
    "seglen = 20\n",
    "fb = ['FORWARDS', 'BACKWARDS']\n",
    "!ls $filedir"
   ]
  },
  {
   "cell_type": "code",
   "execution_count": 6,
   "metadata": {
    "collapsed": false
   },
   "outputs": [],
   "source": [
    "df_dict = {}\n",
    "segdf_dict = {}\n",
    "\n",
    "for myfb in fb:\n",
    "    myfile = 'MCSBiasStudy_%s_anaout_%dcmseg_2res_bothscatters_%s.root' % (anatype, seglen, myfb)\n",
    "    \n",
    "    df_dict[myfb] = pd.DataFrame( root2array ( filedir + myfile, 'MCS_bias_tree' ) )\n",
    "    #This df has track-by-track information (MCS energy, range energy, etc)\n",
    "    df_dict[myfb]['full_MCS_energy_inverse'] = 1./df_dict[myfb]['full_MCS_energy']\n",
    "    df_dict[myfb]['full_range_energy_inverse'] = 1./df_dict[myfb]['full_range_energy']\n",
    "    \n",
    "    #This df has segment-by-segment deviation (scattering angle, etc)\n",
    "    segdf_dict[myfb] = pd.DataFrame( root2array ( filedir + myfile, 'TMC_debug_tree' ) )\n",
    "    segdf_dict[myfb]['dthetayoverpredictedRMS'] = \\\n",
    "        segdf_dict[myfb]['delta_theta_y']/segdf_dict[myfb]['predicted_RMS']\n",
    "    segdf_dict[myfb]['dthetayoverpredictedRMS_fromMCS'] = \\\n",
    "        segdf_dict[myfb]['delta_theta_y']/segdf_dict[myfb]['predicted_RMS_fromMCS']\n",
    "    \n",
    "    segdf_dict[myfb]['dthetaxoverpredictedRMS'] = \\\n",
    "        segdf_dict[myfb]['delta_theta_x']/segdf_dict[myfb]['predicted_RMS']\n",
    "    segdf_dict[myfb]['dthetaxoverpredictedRMS_fromMCS'] = \\\n",
    "        segdf_dict[myfb]['delta_theta_x']/segdf_dict[myfb]['predicted_RMS_fromMCS']\n"
   ]
  },
  {
   "cell_type": "code",
   "execution_count": 7,
   "metadata": {
    "collapsed": false
   },
   "outputs": [
    {
     "name": "stdout",
     "output_type": "stream",
     "text": [
      "['full_track_len' 'full_MCS_E' 'full_range_E' 'delta_theta_x'\n",
      " 'delta_theta_y' 'seg_end_x' 'seg_end_y' 'seg_end_z' 'n_traj_points'\n",
      " 'seg_theta' 'seg_phi' 'counter' 'true_segment_E' 'true_predicted_RMS'\n",
      " 'segment_E' 'predicted_RMS' 'segment_E_fromMCS' 'predicted_RMS_fromMCS'\n",
      " 'resid_dist' 'llbf' 'run' 'subrun' 'eventid' 'dthetayoverpredictedRMS'\n",
      " 'dthetayoverpredictedRMS_fromMCS' 'dthetaxoverpredictedRMS'\n",
      " 'dthetaxoverpredictedRMS_fromMCS']\n"
     ]
    }
   ],
   "source": [
    "print segdf_dict['FORWARDS'].columns.values"
   ]
  },
  {
   "cell_type": "code",
   "execution_count": 8,
   "metadata": {
    "collapsed": true
   },
   "outputs": [],
   "source": [
    "\n",
    "filedir = '/Users/davidkaleko/Desktop/'\n",
    "myfile = 'handscan_results_kaleko.csv'\n",
    "\n",
    "hsdf = pd.read_csv(filedir + myfile,index_col=False)\n",
    "   \n",
    "#Column names with spaces are hard to deal with, this is easy\n",
    "cols = hsdf.columns\n",
    "cols = cols.map(lambda x: x.replace(' ', '_') if isinstance(x, (str, unicode)) else x)\n",
    "hsdf.columns = cols"
   ]
  },
  {
   "cell_type": "code",
   "execution_count": 9,
   "metadata": {
    "collapsed": false
   },
   "outputs": [
    {
     "data": {
      "text/plain": [
       "array(['EVD_Index', 'Event_ID', 'Run', 'Subrun',\n",
       "       'Track_Start_z-_coordinate', '1_good_0_bad', 'optional_comments'], dtype=object)"
      ]
     },
     "execution_count": 9,
     "metadata": {},
     "output_type": "execute_result"
    }
   ],
   "source": [
    "hsdf.columns.values"
   ]
  },
  {
   "cell_type": "code",
   "execution_count": 10,
   "metadata": {
    "collapsed": false
   },
   "outputs": [
    {
     "name": "stdout",
     "output_type": "stream",
     "text": [
      "total length of hsdf is 619\n",
      "number of definitely bad is 118\n",
      "number of maybe bad is 212\n"
     ]
    }
   ],
   "source": [
    "#print hsdf['optional_comments']\n",
    "#If no optional comments were typed in it shows up as NaN\n",
    "#Let's just make a column of \"optional comments present\" (boolean)\n",
    "\n",
    "hsdf['comments_present'] = hsdf['optional_comments'].notnull()\n",
    "\n",
    "#Let's rename things... 1_good_0_bad is only 0 if the track is definitely bad\n",
    "hsdf['definitely_bad'] = hsdf['1_good_0_bad'] == 0\n",
    "\n",
    "#maybe bad is either definitely_bad, or if comments are present (more conservative)\n",
    "hsdf['maybe_bad'] = hsdf['definitely_bad'] | hsdf['comments_present']\n",
    "\n",
    "print \"total length of hsdf is\",len(hsdf)\n",
    "print \"number of definitely bad is\",len(hsdf.query('definitely_bad'))\n",
    "print \"number of maybe bad is\",len(hsdf.query('maybe_bad'))"
   ]
  },
  {
   "cell_type": "code",
   "execution_count": 11,
   "metadata": {
    "collapsed": false,
    "scrolled": false
   },
   "outputs": [],
   "source": [
    "#let's rename run, subrun, eventid columns to match the MCS df\n",
    "#for now just make a new column because it's easier\n",
    "hsdf['run'] = hsdf['Run']\n",
    "hsdf['subrun'] = hsdf['Subrun']\n",
    "hsdf['eventid'] = hsdf['Event_ID']"
   ]
  },
  {
   "cell_type": "code",
   "execution_count": 12,
   "metadata": {
    "collapsed": false
   },
   "outputs": [],
   "source": [
    "mergedf_dict = {}\n",
    "for myfb in fb:\n",
    "    mergedf_dict[myfb] = df_dict[myfb].merge(hsdf, on=['run','subrun','eventid'])\n",
    "\n",
    "mergesegdf_dict = {}\n",
    "for myfb in fb:\n",
    "    mergesegdf_dict[myfb] = segdf_dict[myfb].merge(hsdf, on=['run','subrun','eventid'])"
   ]
  },
  {
   "cell_type": "code",
   "execution_count": 13,
   "metadata": {
    "collapsed": false
   },
   "outputs": [
    {
     "name": "stdout",
     "output_type": "stream",
     "text": [
      "4147\n",
      "   full_track_len  full_MCS_E  full_range_E  delta_theta_x  delta_theta_y  \\\n",
      "0      240.271229       0.571      0.655514     -24.070658      -6.352890   \n",
      "1      240.271229       0.571      0.655514      51.676102     -35.027206   \n",
      "2      240.271229       0.571      0.655514      75.181282       4.290784   \n",
      "3      240.271229       0.571      0.655514      62.698006       4.490481   \n",
      "4      240.271229       0.571      0.655514      71.611870      66.228409   \n",
      "\n",
      "   seg_end_x  seg_end_y   seg_end_z  n_traj_points  seg_theta    ...      \\\n",
      "0  42.430946 -16.605780  375.722137            129   0.569398    ...       \n",
      "1  50.652847 -23.393400  392.643402            127   0.562241    ...       \n",
      "2  59.733814 -30.687000  408.901917            116   0.621638    ...       \n",
      "3  70.165428 -37.586765  424.508789            110   0.675581    ...       \n",
      "4  81.638260 -44.103687  439.538910            122   0.720455    ...       \n",
      "\n",
      "   EVD_Index  Event_ID   Run  Subrun  Track_Start_z-_coordinate  1_good_0_bad  \\\n",
      "0          0       721  5331      14                        341             1   \n",
      "1          0       721  5331      14                        341             1   \n",
      "2          0       721  5331      14                        341             1   \n",
      "3          0       721  5331      14                        341             1   \n",
      "4          0       721  5331      14                        341             1   \n",
      "\n",
      "   optional_comments  comments_present  definitely_bad  maybe_bad  \n",
      "0                NaN             False           False      False  \n",
      "1                NaN             False           False      False  \n",
      "2                NaN             False           False      False  \n",
      "3                NaN             False           False      False  \n",
      "4                NaN             False           False      False  \n",
      "\n",
      "[5 rows x 37 columns]\n"
     ]
    }
   ],
   "source": [
    "print len(mergesegdf_dict['FORWARDS'])\n",
    "print mergesegdf_dict['FORWARDS'].head()"
   ]
  },
  {
   "cell_type": "code",
   "execution_count": 14,
   "metadata": {
    "collapsed": false
   },
   "outputs": [],
   "source": [
    "#Now, segdf dicts have one entry per segment, but for now I'm interested in\n",
    "#the minimum likelihood for each *track*... the segdf just has the same value\n",
    "#for this N times for each track.\n",
    "for myfb in mergesegdf_dict.keys():\n",
    "    mergesegdf_dict[myfb] = mergesegdf_dict[myfb].drop_duplicates(subset='EVD_Index')\n"
   ]
  },
  {
   "cell_type": "code",
   "execution_count": 16,
   "metadata": {
    "collapsed": false,
    "scrolled": false
   },
   "outputs": [
    {
     "data": {
      "image/png": "[encoded data removed]",
      "text/plain": [
       "<matplotlib.figure.Figure at 0x123b29f90>"
      ]
     },
     "metadata": {},
     "output_type": "display_data"
    },
    {
     "data": {
      "image/png": "[encoded data removed]",
      "text/plain": [
       "<matplotlib.figure.Figure at 0x123b79d90>"
      ]
     },
     "metadata": {},
     "output_type": "display_data"
    }
   ],
   "source": [
    "plt.figure(figsize=(10,6))\n",
    "forwards_llbf = mergesegdf_dict['FORWARDS'].query('not maybe_bad')['llbf'].values\n",
    "backwards_llbf = mergesegdf_dict['BACKWARDS'].query('not maybe_bad')['llbf'].values\n",
    "diff_llbf = forwards_llbf-backwards_llbf\n",
    "thebins = bins=np.linspace(0,600,100)\n",
    "blah = plt.hist(forwards_llbf,bins=thebins,label='Forwards',alpha=0.3)\n",
    "blah = plt.hist(backwards_llbf,bins=thebins,label='Backwards',alpha=0.3)\n",
    "dummy = plt.legend()\n",
    "dummy = plt.title('Minimum Log Likelihood for Well Reco\\'d Tracks in Data',fontsize=14)\n",
    "dummy = plt.ylabel('# of Tracks',fontsize=14)\n",
    "dummy = plt.xlabel('Minimum Log Likelihood',fontsize=14)\n",
    "dummy = plt.grid(True)\n",
    "\n",
    "plt.figure(figsize=(10,6))\n",
    "forwards_llbf = mergesegdf_dict['FORWARDS'].query('not maybe_bad')['llbf'].values\n",
    "backwards_llbf = mergesegdf_dict['BACKWARDS'].query('not maybe_bad')['llbf'].values\n",
    "diff_llbf = forwards_llbf-backwards_llbf\n",
    "#mergesegdf_dict['FORWARDS'].hist('llbf')\n",
    "#mergesegdf_dict['BACKWARDS'].hist('llbf')\n",
    "\n",
    "blah = plt.hist(diff_llbf,bins=np.linspace(-400,400,100),alpha=0.5)\n",
    "dummy = plt.title('Forwards - Backwards LLHD',fontsize=14)\n",
    "dummy = plt.ylabel('# of Tracks',fontsize=14)\n",
    "dummy = plt.xlabel('Forwards - Backwards LLHD',fontsize=14)\n",
    "dummy = plt.grid(True)"
   ]
  },
  {
   "cell_type": "code",
   "execution_count": null,
   "metadata": {
    "collapsed": false
   },
   "outputs": [],
   "source": [
    "mergesegdf_dict['FORWARDS'].columns.values"
   ]
  },
  {
   "cell_type": "code",
   "execution_count": null,
   "metadata": {
    "collapsed": false
   },
   "outputs": [],
   "source": [
    "mergesegdf_dict['FORWARDS'].tail()"
   ]
  },
  {
   "cell_type": "code",
   "execution_count": null,
   "metadata": {
    "collapsed": true
   },
   "outputs": [],
   "source": []
  }
 ],
 "metadata": {
  "kernelspec": {
   "display_name": "Python 2",
   "language": "python",
   "name": "python2"
  },
  "language_info": {
   "codemirror_mode": {
    "name": "ipython",
    "version": 2
   },
   "file_extension": ".py",
   "mimetype": "text/x-python",
   "name": "python",
   "nbconvert_exporter": "python",
   "pygments_lexer": "ipython2",
   "version": "2.7.5"
  }
 },
 "nbformat": 4,
 "nbformat_minor": 0
}
