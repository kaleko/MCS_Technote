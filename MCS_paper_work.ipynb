{
 "cells": [
  {
   "cell_type": "code",
   "execution_count": null,
   "metadata": {
    "collapsed": false
   },
   "outputs": [],
   "source": [
    "%matplotlib inline\n",
    "\n",
    "from shared_content import *"
   ]
  },
  {
   "cell_type": "code",
   "execution_count": null,
   "metadata": {
    "collapsed": false
   },
   "outputs": [],
   "source": [
    "# Do you want to write figures to png files? Careful, it will overwrite!\n",
    "write_figures = True\n",
    "figdir = 'Figures/'"
   ]
  },
  {
   "cell_type": "code",
   "execution_count": null,
   "metadata": {
    "collapsed": false
   },
   "outputs": [],
   "source": [
    "filedir = 'anafiles/'\n",
    "#'SingleMuonRecoTrack'\n",
    "#'MCBNBSelectedRecoTrack'\n",
    "#'DataBNBSelectedRecoTrack'\n",
    "#'MCBNBRecoTrack'\n",
    "#'MCBNBMCTrack'\n",
    "#'SingleMuonMCTrack'\n",
    "#'MCBNBMCTrackExiting'\n",
    "#'MCBNBRecoTrackExiting'\n",
    "anatype = 'DataBNBSelectedRecoTrack' \n",
    "\n",
    "seglen = 14\n",
    "#myfile = 'MCSBiasStudy_%s_anaout_%dcmseg_2res_bothscatters_nonrelfix.root' %( anatype, seglen )\n",
    "myfile = 'MCSBiasStudy_%s_anaout_14cmseg_3res_bothscatters_nonrelfix_realdedx1_highlandconstantMOMENTUMDEPENDENT.root'%( anatype )\n",
    "print myfile\n",
    "!ls -ltr $filedir | grep $myfile"
   ]
  },
  {
   "cell_type": "code",
   "execution_count": null,
   "metadata": {
    "collapsed": false
   },
   "outputs": [],
   "source": [
    "df, segdf = get_dfs(filedir + myfile)\n",
    "print len(segdf)\n",
    "print df.columns.values\n",
    "\n"
   ]
  },
  {
   "cell_type": "code",
   "execution_count": null,
   "metadata": {
    "collapsed": false,
    "scrolled": false
   },
   "outputs": [],
   "source": [
    "# myrun = 4\n",
    "# mysub = 5093\n",
    "# myevt = 101842\n",
    "# print df.\\\n",
    "# query('full_MCS_energy<1.5 and true_E > 2.5')\\\n",
    "# .query('run == %d and subrun == %d and eventid == %d' % (myrun,mysub,myevt))\\\n",
    "# [['full_MCS_energy','true_E','run','subrun','eventid','full_range_energy']]#\\\n",
    "# #.head(n=1)\n",
    "# print segdf.query('run == %d and subrun == %d and eventid == %d' % (myrun,mysub,myevt))\\\n",
    "# [['delta_theta_x','delta_theta_y','dthetayoverpredictedRMS_fromMCS','dthetaxoverpredictedRMS_fromMCS']]"
   ]
  },
  {
   "cell_type": "code",
   "execution_count": null,
   "metadata": {
    "collapsed": false
   },
   "outputs": [],
   "source": [
    "# Basic plot of muon energy and angle spectra ala Bruce's request\n",
    "if anatype == 'MCBNBMCTrack':\n",
    "    # Energy spectra\n",
    "    myx = df['true_E'].values\n",
    "    plt.figure(figsize=(10,6))\n",
    "    plt.hist(myx,bins=np.linspace(0,2.2,100),alpha=0.5)\n",
    "    plt.grid(True,'both')\n",
    "    plt.title('True Muons Passing Selection Cuts',fontsize=16)\n",
    "    plt.xlabel('True Total Energy [GeV]',fontsize=14)\n",
    "    plt.ylabel('Events')\n",
    "    plt.yscale('log')\n",
    "    if write_figures == True:\n",
    "        plotname = 'MCBNBMCTrack_EnergySpectrum.png'\n",
    "        print \"Saving figure %s\"%plotname\n",
    "        plt.tight_layout()\n",
    "        plt.savefig(figdir + plotname)\n",
    "    \n",
    "    # Angle spectra\n",
    "    myx = df['theta'].values\n",
    "    plt.figure(figsize=(10,6))\n",
    "    plt.hist(myx,bins=np.linspace(0,3.14159,100),alpha=0.5)\n",
    "    plt.grid(True,'both')\n",
    "    plt.title('True Muons Passing Selection Cuts',fontsize=16)\n",
    "    plt.xlabel('True Theta Angle w.r.t. Beam [rad]',fontsize=14)\n",
    "    plt.ylabel('Events')\n",
    "    if write_figures == True:\n",
    "        plotname = 'MCBNBMCTrack_AngleSpectrum.png'\n",
    "        print \"Saving figure %s\"%plotname\n",
    "        plt.tight_layout()\n",
    "        plt.savefig(figdir + plotname)"
   ]
  },
  {
   "cell_type": "code",
   "execution_count": null,
   "metadata": {
    "collapsed": false
   },
   "outputs": [],
   "source": [
    "def basic_comparison_fig(xvar, yvar, plotname =None, extraquery = None, addtext = None, nbins=50, binmin = 0, binmax = 2):\n",
    "    plt.figure(figsize=(10,6)) \n",
    "    myquery = 'true_E < 99999999'\n",
    "    if extraquery is not None: myquery += ' and %s'%extraquery\n",
    "    myx = df.query(myquery)[xvar].values\n",
    "    myy = df.query(myquery)[yvar].values\n",
    "    blah = plt.hist2d(myx,myy,bins=((np.linspace(binmin,binmax,nbins),np.linspace(binmin,binmax,nbins))),cmin=1)\n",
    "    blah = plt.colorbar()\n",
    "    blah = plt.grid(True)\n",
    "    blha = plt.xlabel('%s'%titles[xvar],fontsize=16)\n",
    "    blha = plt.ylabel('%s'%titles[yvar],fontsize=16)\n",
    "    blha = plt.title('%s'%titles[anatype],fontsize=16)\n",
    "    blha.set_y(1.04)\n",
    "    blah = plt.plot([0,100],[0,100],'g--',linewidth=3)\n",
    "    \n",
    "    if addtext is not None:\n",
    "        plt.text(plt.xlim()[1]*0.55, plt.ylim()[1]*0.1, addtext, fontsize=20)\n",
    "        \n",
    "    if write_figures:\n",
    "        if plotname is not None: \n",
    "            print \"Saving figure %s\"%plotname\n",
    "            plt.tight_layout()\n",
    "            plt.savefig(figdir + plotname)\n",
    "        else: print \"YOU WANTED TO SAVE A PLOT BUT DIDN'T GIVE A PLOT NAME!\""
   ]
  },
  {
   "cell_type": "code",
   "execution_count": null,
   "metadata": {
    "collapsed": false
   },
   "outputs": [],
   "source": [
    "# MCS momentum vs range momentum for all samples\n",
    "basic_comparison_fig(xvar='full_range_momentum',yvar='full_MCS_momentum',\n",
    "                         plotname='MCS_range_comparison_%s.png'%anatype,\n",
    "                        nbins = 100)\n",
    "\n",
    "# MCS momentum vs true momentum for all samples (except data)\n",
    "if 'Data' not in anatype:\n",
    "    basic_comparison_fig(xvar='true_momentum',yvar='full_MCS_momentum',\n",
    "                         plotname='MCS_true_comparison_%s.png'%anatype,\n",
    "                        nbins = 100)"
   ]
  },
  {
   "cell_type": "code",
   "execution_count": null,
   "metadata": {
    "collapsed": false
   },
   "outputs": [],
   "source": [
    "# Range energy vs True Energy for single muon MCTrack analysis only\n",
    "#if anatype == 'SingleMuonMCTrack':\n",
    "if anatype == 'MCBNBMCTrack':\n",
    "    basic_comparison_fig(xvar='true_E',yvar='full_range_energy',\n",
    "                         plotname='true_range_comparison_MCTracks.png',\n",
    "                        nbins=100)\n"
   ]
  },
  {
   "cell_type": "code",
   "execution_count": null,
   "metadata": {
    "collapsed": true
   },
   "outputs": [],
   "source": []
  },
  {
   "cell_type": "code",
   "execution_count": null,
   "metadata": {
    "collapsed": false,
    "scrolled": false
   },
   "outputs": [],
   "source": [
    "# MCS momentum vs True momentum for EXITING MCTRACK ANALYSIS ONLY\n",
    "if 'Exiting' in anatype:\n",
    "    \n",
    "    basic_comparison_fig(xvar='true_momentum',yvar='full_MCS_momentum',\n",
    "                         plotname='MCS_true_comparison_%s.png'%anatype,\n",
    "                        nbins=100,binmin=0,binmax=4)\n",
    "    \n",
    "    \n",
    "    extraqueries = ['full_length < 150.',\n",
    "                   'full_length > 150. and full_length < 250.',\n",
    "                   'full_length > 250. and full_length < 350.',\n",
    "                   'full_length > 350.']\n",
    "    for extraquery in extraqueries:\n",
    "        basic_comparison_fig(xvar='true_momentum',yvar='full_MCS_momentum',\n",
    "                            nbins=100,binmin=0,binmax=4,extraquery=extraquery)\n"
   ]
  },
  {
   "cell_type": "code",
   "execution_count": null,
   "metadata": {
    "collapsed": false,
    "scrolled": false
   },
   "outputs": [],
   "source": [
    "#Breakdown of proton, pion MIDs and true muon IDs\n",
    "if anatype == 'MCBNBSelectedRecoTrack':\n",
    "\n",
    "    for (pdg,name) in [ (211,'Pion MIDs'), (13,'True Muons'), (2212, 'Proton MIDs')]:\n",
    "        \n",
    "        #Testing this way\n",
    "        extraquery = 'MCT_PDG == %d or MCT_PDG == -%d'%(pdg,pdg)\n",
    "        basic_comparison_fig(xvar='full_range_momentum',yvar='full_MCS_momentum',\n",
    "                         plotname='MCS_range_momentum_MCBNBSelectedRecoTrack_%d.png' % pdg,\n",
    "                            extraquery = extraquery,\n",
    "                            addtext = name)\n",
    "    # Pie chart!\n",
    "\n",
    "    plt.figure(figsize=(10,6))\n",
    "    \n",
    "    sizes = [ len(df.query('MCT_PDG == %d or MCT_PDG == -%d'%(13,13))),\n",
    "              len(df.query('MCT_PDG == %d or MCT_PDG == -%d'%(211,211))),\n",
    "              len(df.query('MCT_PDG == %d or MCT_PDG == -%d'%(2212,2212))) ]\n",
    "    total = float(np.sum(sizes))\n",
    "    labels = ['Muon (%0.1f%%)' % (100.*(sizes[0]/total)), \n",
    "              'Pion (%0.1f%%)' % (100.*(sizes[1]/total)), \n",
    "              'Proton (%0.1f%%)' % (100.*(sizes[2]/total))]\n",
    "    colors = ['yellowgreen', 'lightskyblue', 'lightcoral']\n",
    " \n",
    "    explode = (0.1, 0, 0)  # explode muon slice\n",
    " \n",
    "    # Plot\n",
    "    plt.pie(sizes, explode=explode, labels=labels, colors=colors,\n",
    "            shadow=True, startangle=140)\n",
    "     \n",
    "    plt.axis('equal')\n",
    "    if write_figures:\n",
    "        print \"Saving figure\",'MCBNBSelectedRecoTrack_MID_piechart.png'\n",
    "        plt.savefig(figdir+'MCBNBSelectedRecoTrack_MID_piechart.png')\n",
    "    "
   ]
  },
  {
   "cell_type": "code",
   "execution_count": null,
   "metadata": {
    "collapsed": false
   },
   "outputs": [],
   "source": [
    "#Read in handscan info if working with data\n",
    "if anatype == 'DataBNBSelectedRecoTrack':\n",
    "    filedir = 'handscan_results/'\n",
    "    myfile = 'handscan_results_kaleko.csv'\n",
    "    \n",
    "    hsdf = pd.read_csv(filedir + myfile,index_col=False)\n",
    "       \n",
    "    #Column names with spaces are hard to deal with, this is easy\n",
    "    cols = hsdf.columns\n",
    "    cols = cols.map(lambda x: x.replace(' ', '_') if isinstance(x, (str, unicode)) else x)\n",
    "    hsdf.columns = cols\n",
    "    \n",
    "    #If no optional comments were typed in it shows up as NaN\n",
    "    #Let's just make a column of \"optional comments present\" (boolean)\n",
    "    \n",
    "    hsdf['comments_present'] = hsdf['optional_comments'].notnull()\n",
    "    \n",
    "    #Let's rename things... 1_good_0_bad is only 0 if the track is definitely bad\n",
    "    hsdf['definitely_bad'] = hsdf['1_good_0_bad'] == 0\n",
    "    \n",
    "    #maybe bad is either definitely_bad, or if comments are present (more conservative)\n",
    "    hsdf['maybe_bad'] = hsdf['definitely_bad'] | hsdf['comments_present']\n",
    "    \n",
    "    print \"total length of hsdf is\",len(hsdf)\n",
    "    print \"number of definitely bad is\",len(hsdf.query('definitely_bad'))\n",
    "    print \"number of maybe bad is\",len(hsdf.query('maybe_bad'))\n",
    "    \n",
    "    #let's rename run, subrun, eventid columns to match the MCS df\n",
    "    #for now just make a new column because it's easier\n",
    "    hsdf['run'] = hsdf['Run']\n",
    "    hsdf['subrun'] = hsdf['Subrun']\n",
    "    hsdf['eventid'] = hsdf['Event_ID']\n",
    "    \n",
    "    df = df.merge(hsdf, on=['run','subrun','eventid'])\n",
    "\n",
    "    segdf = segdf.merge(hsdf, on=['run','subrun','eventid'])"
   ]
  },
  {
   "cell_type": "code",
   "execution_count": null,
   "metadata": {
    "collapsed": false
   },
   "outputs": [],
   "source": [
    "#Breakdown of events that were handscanned as good, and those handscanned as bad\n",
    "if anatype == 'DataBNBSelectedRecoTrack':\n",
    "\n",
    "    extraquery = 'not maybe_bad'\n",
    "    basic_comparison_fig(xvar='full_range_momentum',yvar='full_MCS_momentum',\n",
    "                         plotname='MCS_range_momentum_DataRecoTracks_goodhandscan.png',\n",
    "                            extraquery = extraquery,\n",
    "                        addtext = 'Good Scan Sample')\n",
    "    \n",
    "    extraquery = 'maybe_bad'\n",
    "    basic_comparison_fig(xvar='full_range_momentum',yvar='full_MCS_momentum',\n",
    "                         plotname='MCS_range_momentum_DataRecoTracks_badhandscan.png',\n",
    "                            extraquery = extraquery,\n",
    "                        addtext = 'Bad Scan Sample')"
   ]
  },
  {
   "cell_type": "code",
   "execution_count": null,
   "metadata": {
    "collapsed": true
   },
   "outputs": [],
   "source": [
    "#def highlandE(rms):\n",
    "#    loverX = float(seglen)/14.\n",
    "#    return np.sqrt((13.6*13.6*loverX*np.square((1+0.038*np.log(loverX))))/np.square(rms))"
   ]
  },
  {
   "cell_type": "code",
   "execution_count": null,
   "metadata": {
    "collapsed": false
   },
   "outputs": [],
   "source": [
    "def deflection_plot(binmin,binmax,nbins,extraquery=None,plotname=None, addtext=None, figname = None, \n",
    "                    customtitle = None, highland_constant = None, cut2percent = False, use_true_p = False):\n",
    "    \n",
    "    fig = plt.figure(figsize=(10,6))\n",
    "    \n",
    "    poop = plt.grid(True)\n",
    "    \n",
    "    myquery = 'run < 99999999'\n",
    "    if extraquery is not None: myquery += ' and %s'%extraquery\n",
    "    print myquery\n",
    "    mybins = np.linspace(binmin,binmax,nbins)\n",
    "    \n",
    "    myvar1 = 'dthetayoverpredictedRMS_fromMCS'\n",
    "    myvar2 = 'dthetaxoverpredictedRMS_fromMCS'\n",
    "#     myvar1 = 'dthetayovertruepredictedRMS_momentumdepenentconstant'\n",
    "#     myvar2 = 'dthetaxovertruepredictedRMS_momentumdepenentconstant'\n",
    "    \n",
    "    #testing out changing the 13.6 in the highland formula...\n",
    "    #want to use true particle momentum to compute highland RMS\n",
    "    if use_true_p:\n",
    "        myvar1 = 'dthetayovertruepredictedRMS'\n",
    "        myvar2 = 'dthetaxovertruepredictedRMS'\n",
    "\n",
    "    #2.3265 standard deviations from 0 contain 98.000% of scatters\n",
    "    thisquery1 = '%s > %f and %s < %f'%(myvar1,binmin,myvar1,binmax)\n",
    "    thisquery2 = '%s > %f and %s < %f'%(myvar2,binmin,myvar2,binmax)\n",
    "\n",
    "    myvals = np.append(\n",
    "        segdf.query(myquery).\\\n",
    "        query(thisquery1)[myvar1].values,\n",
    "        segdf.query(myquery).\\\n",
    "        query(thisquery2)[myvar2].values\n",
    "    )\n",
    "    \n",
    "    #testing out changing the 13.6 in the highland formula...\n",
    "    # it's /= because the highland formula is in the denominator\n",
    "    if highland_constant is not None:\n",
    "        myvals /= highland_constant/13.6\n",
    "    \n",
    "    mystd = np.std(myvals)\n",
    "    mymean = np.mean(myvals)\n",
    "\n",
    "    datahist = plt.hist(myvals,bins=mybins,normed=True,\n",
    "                             alpha=0.5,label='$\\Delta\\\\theta/RMS$ Values')#,\n",
    "                            #weights = myweights)\n",
    "   \n",
    "    datahist_nonorm = np.histogram(myvals,bins=mybins,normed=False)\n",
    "    \n",
    "    binvals = datahist[0]\n",
    "    bincenters = [ datahist[1][x] + (datahist[1][x+1]-datahist[1][x])/2 for x in xrange(len(datahist[1])-1) ]\n",
    "    \n",
    "    tempbinvals = binvals\n",
    "    tempbincenters = bincenters\n",
    "    if cut2percent is True:\n",
    "        #work your way out from both sides removing bins until you're left with 98% of the central area\n",
    "        totalentries = float(np.sum(binvals))\n",
    "        subset = 0.02 * totalentries\n",
    "        outercount = 0\n",
    "        while outercount < subset:\n",
    "            outercount += tempbinvals[0]\n",
    "            outercount += tempbinvals[-1]\n",
    "            tempbinvals = np.delete(tempbinvals,0)\n",
    "            tempbinvals = np.delete(tempbinvals,-1)\n",
    "            tempbincenters = np.delete(tempbincenters,0)\n",
    "            tempbincenters = np.delete(tempbincenters,-1)\n",
    "        \n",
    "        binvals = tempbinvals\n",
    "        bincenters = tempbincenters\n",
    "        \n",
    "    \n",
    "    # Fit a normal distribution\n",
    "    gmod = Model(gaussian)\n",
    "    #initial random guesses of 1, 1, 2\n",
    "    result = gmod.fit(binvals, x=bincenters, amp=1, cen=1, wid=2)\n",
    "\n",
    "    #print(result.fit_report())\n",
    "    #print help(result)\n",
    "    #plt.plot(bincenters, binvals,         'bo')\n",
    "    #plt.plot(bincenters, result.init_fit, 'k--')\n",
    "    print result.params\n",
    "    plt.plot(bincenters, result.best_fit, 'g-',\\\n",
    "             label='Gaussian Fit: $\\sigma$ = %0.4f' % result.params['wid'],\\\n",
    "            linewidth=4)\n",
    "  \n",
    "    #data_mu, data_std = norm.fit(myvals)\n",
    "    \n",
    "    #myhighland = highlandE(data_std)\n",
    "\n",
    "    # Plot the PDF.\n",
    "    #x = np.linspace(binmin,binmax,100)\n",
    "    #p = norm.pdf(x, data_mu, data_std)\n",
    "    #plt.plot(x, p, 'g', linewidth=4,label='Gaussian Fit to Data')\n",
    "    \n",
    "    \n",
    "    plt.title('%s'%titles[anatype],fontsize=14)\n",
    "   \n",
    "    if customtitle is not None:\n",
    "        plt.title(customtitle,fontsize=14)\n",
    "        \n",
    "    plt.xlabel('Delta Theta / RMS',fontsize=16)\n",
    "    blah = plt.legend(loc='best')\n",
    "    leg = plt.legend(loc=2)\n",
    "    \n",
    "    if addtext is not None:\n",
    "        plt.text(plt.xlim()[1]*0.25, plt.ylim()[1]*0.85, addtext, fontsize=20)\n",
    "        \n",
    "    if write_figures:\n",
    "        fullfigname = figdir + 'Highland_validation_%s.png' % anatype\n",
    "        if figname is not None:\n",
    "            fullfigname = figdir + figname\n",
    "            \n",
    "        print \"\\n\\n WRITING FIGURE %s! \\n\\n\"%fullfigname\n",
    "        plt.tight_layout()\n",
    "        if plotname is not None: plt.savefig(figdir + plotname)\n",
    "        else: plt.savefig(fullfigname)\n",
    "            \n",
    "    return result.params['wid']"
   ]
  },
  {
   "cell_type": "code",
   "execution_count": null,
   "metadata": {
    "collapsed": false
   },
   "outputs": [],
   "source": [
    "# if 'MCTrack' in anatype:\n",
    "#     segdf.hist('true_segment_p',bins=np.linspace(0,0.2,100))\n",
    "#     plt.yscale('log')\n",
    "#     segdf.hist('true_segment_E',bins=np.linspace(0,1,100))\n",
    "#     segdf.hist('resid_dist',bins=np.linspace(0,100,100))"
   ]
  },
  {
   "cell_type": "code",
   "execution_count": null,
   "metadata": {
    "collapsed": false,
    "scrolled": false
   },
   "outputs": [],
   "source": [
    "# # determining the \"13.6\" constant in the highland formula...\n",
    "# if 'MCBNBMCTrack' in anatype:\n",
    "# #     myconstants = np.linspace(12.0,12.3,10)\n",
    "#     #myconstants = np.linspace(10,13,10)\n",
    "#     myconstants = np.linspace(11.0,11.3,10)\n",
    "# #    myconstants = np.linspace(11.5,11.75,10)\n",
    "#     mywidths = []\n",
    "#     myextraquery = None\n",
    "#     #myextraquery = 'true_segment_E < 0.5'\n",
    "#     myextraquery = 'true_segment_p > 1'\n",
    "#     for myconstant in myconstants:\n",
    "#         mywidths.append(deflection_plot(-5,5,50,extraquery=myextraquery,highland_constant=myconstant,cut2percent=False,use_true_p=True))\n",
    "\n",
    "#     plt.figure(figsize=(10,6))\n",
    "#     plt.plot(myconstants,mywidths,'ro--')\n",
    "#     plt.title('Calibrating the 13.6 MCS Constant',fontsize=16)\n",
    "#     plt.xlabel('Constant Value',fontsize=16)\n",
    "#     plt.ylabel('Gaussian Fit Width',fontsize=16)\n",
    "#     plt.grid(True)"
   ]
  },
  {
   "cell_type": "code",
   "execution_count": null,
   "metadata": {
    "collapsed": false
   },
   "outputs": [],
   "source": [
    "# myx = [.25,.35,.45,.55,.65,.75,.85,.95,1.05,1.15,1.25]\n",
    "# lower_xerr = [ .05 ] * len(myx)\n",
    "# upper_xerr = [ .05 ] * len(myx)\n",
    "# upper_xerr[-1] = 0.5\n",
    "# asymmetric_error = [lower_xerr,upper_xerr]\n",
    "\n",
    "# # ax1.errorbar(x, y, xerr=asymmetric_error, fmt='o')\n",
    "# myc = [12.7,11.8,11.5,11.4,11.3,11.25,11.15,11.15,11.05,11.05,11.03]\n",
    "# plt.figure(figsize=(10,6))\n",
    "# plt.errorbar(myx,myc,xerr=asymmetric_error,fmt='bo',label='Fit Values from MCTracks')\n",
    "# plt.title(\"Highland Constant: 14cm Segments, Momentum Dependence\",fontsize=16)\n",
    "# plt.xlabel('True Segment Momentum [GeV]',fontsize=16)\n",
    "# plt.ylabel('Fit Highland Constant',fontsize=16)\n",
    "# plt.ylim((10,14))\n",
    "# plt.xlim((0,2))\n",
    "# plt.grid(True)\n",
    "\n",
    "# from scipy.optimize import curve_fit\n",
    "# def func(x,a,c):\n",
    "#     return (a/(x*x)) + c\n",
    "# popt, pcov = curve_fit(func,myx,myc)\n",
    "\n",
    "# curvex = np.linspace(0.2,2,100)\n",
    "# curvey = func(curvex,popt[0],popt[1])\n",
    "# plt.plot(curvex,curvey,'r',label='Fit: [ a/(p^2) + c ]; a = %0.4f, c = %0.4f'%(popt[0],popt[1]))\n",
    "# plt.legend()"
   ]
  },
  {
   "cell_type": "code",
   "execution_count": null,
   "metadata": {
    "collapsed": false
   },
   "outputs": [],
   "source": []
  },
  {
   "cell_type": "code",
   "execution_count": null,
   "metadata": {
    "collapsed": false,
    "scrolled": false
   },
   "outputs": [],
   "source": [
    "# For MCBNBSelectedRecoTrack only make highland validation plot for the true muons\n",
    "myextraquery = None\n",
    "if anatype == 'MCBNBSelectedRecoTrack':\n",
    "    myextraquery = 'MCT_PDG == 13 or MCT_PDG == -13'\n",
    "# For real data events, only make plot for those events handscanned as \"good\"\n",
    "if anatype == 'DataBNBSelectedRecoTrack':\n",
    "    myextraquery = 'not maybe_bad'\n",
    "    \n",
    "dummy = deflection_plot(-5,5,50,extraquery=myextraquery,use_true_p=False)\n",
    "#dummy = deflection_plot(-5,5,50,extraquery=myextraquery,highland_constant=13.6,use_true_p=False)\n",
    "\n",
    "if anatype == 'DataBNBSelectedRecoTrack':\n",
    "    myextraquery = 'not maybe_bad'\n",
    "    dummy = deflection_plot(-5,5,50,extraquery=myextraquery,addtext='Good Scan Sample',\\\n",
    "                            figname = 'Highland_validation_DataBNBSelectedRecoTrack_goodscan.png')\n",
    "    myextraquery = 'maybe_bad'\n",
    "    dummy = deflection_plot(-5,5,50,extraquery=myextraquery,addtext='Bad Scan Sample',\\\n",
    "                            figname = 'Highland_validation_DataBNBSelectedRecoTrack_badscan.png',\n",
    "                           customtitle = 'Selected, Poorly Reconstructed Tracks from NumuCC Data')\n"
   ]
  },
  {
   "cell_type": "code",
   "execution_count": null,
   "metadata": {
    "collapsed": false
   },
   "outputs": [],
   "source": [
    "#reco-true/true\n",
    "def fractional_bias_resolution_plot(xvar = 'full_range_momentum', xbins = np.linspace(0.35,1,10),\n",
    "                   yvar = 'full_MCS_momentum', slicevar = 'full_range_momentum',\n",
    "                         plot_bin_distributions = False, extraquery = None, slicetitlebase = None,\n",
    "                        slicebins = np.linspace(-0.8,.8,20),\n",
    "                        biasplotname = None, resplotname = None, biasmainfig_ylims = None,\n",
    "                         resmainfig_ylims = None,\n",
    "                        usegausfit = False):\n",
    "\n",
    "    binning = xbins\n",
    "    binwidth = float(binning[1]-binning[0])\n",
    "    bincenters = binning + (binwidth/2)\n",
    "    myreses, mystds, myerrs_bias, myerrs_res = [], [], [], []\n",
    "\n",
    "    for x in xrange(len(binning)-1):\n",
    "        \n",
    "        binmin = binning[x]\n",
    "        binmax = binning[x+1]\n",
    "        #print \"binmin = %0.2f, binmax = %0.2f\"% ( binmin, binmax )\n",
    "        myquery = '%s > %f and %s < %f'%(slicevar,binmin,slicevar,binmax)\n",
    "        if anatype == 'DataBNBSelectedRecoTrack': \n",
    "            myquery += ' and not maybe_bad'\n",
    "        if extraquery is not None:\n",
    "            myquery += ' and %s' % extraquery\n",
    "            \n",
    "        mydf = df.query(myquery)\n",
    "        true = mydf[xvar].values\n",
    "        reco = mydf[yvar].values\n",
    "        mymean = ((reco-true)/true).mean()\n",
    "        mystd = ((reco-true)/true).std()\n",
    "        \n",
    "        if plot_bin_distributions:\n",
    "            plt.figure(figsize=(5,3))\n",
    "            datahist = plt.hist((reco-true)/true,color='r',alpha=0.5,label='%d Entries'%len((reco-true)/true),\\\n",
    "                     bins=slicebins)\n",
    "            temp = 'GeV'\n",
    "            if 'length' in slicevar: temp = 'cm'\n",
    "            titlestring = '$\\\\frac{%s - %s}{%s}$ for $%s$ in %0.2f $\\\\rightarrow$ %0.2f %s'% \\\n",
    "            (latextitles[yvar],latextitles[xvar],latextitles[xvar],latextitles[slicevar],binmin,binmax,temp)\n",
    "            t =plt.title(titlestring,fontsize=16)\n",
    "            #move the title up a bit\n",
    "            t.set_y(1.04) \n",
    "            plt.grid(False)\n",
    "            \n",
    "            # Plot gaussian on each bin distribution\n",
    "            if usegausfit:\n",
    "                 \n",
    "                slicebinvals = datahist[0]\n",
    "                slicebincenters = [ datahist[1][x] + (datahist[1][x+1]-datahist[1][x])/2 for x in xrange(len(datahist[1])-1) ]\n",
    "    \n",
    "                # Fit a normal distribution\n",
    "                gmod = Model(gaussian)\n",
    "                #initial random guesses of 1, 1, 2\n",
    "                result = gmod.fit(slicebinvals, x=slicebincenters, amp=1, cen=1, wid=2)\n",
    "\n",
    "                thisx = np.linspace(np.min(slicebins),np.max(slicebins),100)\n",
    "                thisy = gaussian(thisx, result.params['amp'], result.params['cen'], result.params['wid'])\n",
    "                plt.plot(thisx, thisy, 'g-',\\\n",
    "                     label='Gaus Fit',\\\n",
    "                     linewidth=2)\n",
    "                addtext = 'Fit: \\n$\\sigma$ = %0.2f, \\n$\\mu$ = %0.2f'%\\\n",
    "                (np.abs(result.params['wid']),result.params['cen'])\n",
    "                plt.text(plt.xlim()[1]*0.35, plt.ylim()[1]*0.1, addtext, fontsize=14)\n",
    "                \n",
    "                # If use gaus fit, use the result of that instead of straight mean and RMS\n",
    "                mymean = result.params['cen']\n",
    "                #Somehow when there are like 2 data points you get a negative width?!\n",
    "                mystd  = np.abs(result.params['wid'])\n",
    "                # If the fit doesn't converge, 'wid' will be the initial guess of 2.0... don't use these points then\n",
    "                # (this only happens when no entries in the sliced histogram)\n",
    "                if int(result.params['wid']) == 2:\n",
    "                    print \"WARNING: FIT DIDN'T CONVERGE!\"\n",
    "                    mymean = ((reco-true)/true).mean()\n",
    "                    mystd = ((reco-true)/true).std()\n",
    "                    \n",
    "             \n",
    "                \n",
    "                \n",
    "            plt.xlabel('$\\\\frac{%s - %s}{%s}$'%(latextitles[yvar],latextitles[xvar],latextitles[xvar]),fontsize=16)\n",
    "            plt.ylabel('Counts',fontsize=16)\n",
    "            plt.xlim((np.min(slicebins),np.max(slicebins)))\n",
    "            plt.legend(loc=1)\n",
    "            if write_figures and slicetitlebase is not None:\n",
    "                fullfigname = figdir + slicetitlebase + '_slice_%0.2f_%0.2f.png'%(binmin,binmax)\n",
    "                print '\\n\\n WRITING A FIGURE!! %s\\n\\n'%fullfigname\n",
    "                plt.tight_layout()\n",
    "                plt.savefig(fullfigname)\n",
    "        \n",
    "        \n",
    "        myerr_bias = mystd / np.sqrt( float(len(true)) )\n",
    "        myerr_res = mystd / np.sqrt( float(2*len(true)) )\n",
    "        myreses.append( mymean )\n",
    "        mystds.append( mystd )\n",
    "        myerrs_bias.append( myerr_bias )\n",
    "        myerrs_res.append( myerr_res )\n",
    "        \n",
    "        \n",
    "    #BIAS PLOT \n",
    "    plt.figure(figsize=(10,6))\n",
    "    plt.errorbar(bincenters[:-1],myreses,yerr=myerrs_bias,xerr=binwidth/2,fmt='ro',label='Mean of Gaussian Fit, Errors = std/sqrt(N)')\n",
    "    plt.ylabel('GausMean($\\\\frac{%s - %s}{%s}$)'%(latextitles[yvar],latextitles[xvar],latextitles[xvar]),fontsize=25)\n",
    "    plt.xlabel('%s'%titles[slicevar],fontsize=15)\n",
    "    plt.grid(True)\n",
    "    plt.legend(loc='best')\n",
    "    t = plt.title('Fractional Bias: %s'%titles[anatype],fontsize=16)\n",
    "    t.set_y(1.04)\n",
    "    if biasmainfig_ylims is not None:\n",
    "        blah = plt.ylim(biasmainfig_ylims)\n",
    "    if write_figures and biasplotname is not None:\n",
    "        print \" \\n\\n Writing the main bias figure!! %s\\n\\n\" % (figdir+biasplotname)\n",
    "        plt.tight_layout()\n",
    "        plt.savefig(figdir + biasplotname)\n",
    "        \n",
    "    #RESOLUTION PLOT\n",
    "    plt.figure(figsize=(10,6))\n",
    "    plt.errorbar(bincenters[:-1],mystds,yerr=myerrs_res,xerr=binwidth/2,fmt='bo',label='Width of Gaussian Fit, Errors = std/sqrt(2N)')\n",
    "    plt.ylabel('GausWidth($\\\\frac{%s - %s}{%s}$)'%(latextitles[yvar],latextitles[xvar],latextitles[xvar]),fontsize=25)\n",
    "    plt.xlabel('%s'%titles[slicevar],fontsize=15)\n",
    "    plt.grid(True)\n",
    "    t = plt.title('Momentum Resolution: %s' % titles[anatype],fontsize=16)\n",
    "    plt.legend(loc='best')\n",
    "    #move the title up a bit\n",
    "    t.set_y(1.05) \n",
    "                    \n",
    "    if resmainfig_ylims is not None:\n",
    "        blah = plt.ylim(resmainfig_ylims)\n",
    "    if write_figures and resplotname is not None:\n",
    "        print \" \\n\\n Writing the main resolution figure!! %s \\n\\n\" % (figdir+resplotname)\n",
    "        plt.tight_layout()\n",
    "        plt.savefig(figdir + resplotname)"
   ]
  },
  {
   "cell_type": "code",
   "execution_count": null,
   "metadata": {
    "collapsed": false
   },
   "outputs": [],
   "source": [
    "print len(df)\n",
    "print len(df.query('full_MCS_momentum < 7.4'))"
   ]
  },
  {
   "cell_type": "code",
   "execution_count": null,
   "metadata": {
    "collapsed": false,
    "scrolled": false
   },
   "outputs": [],
   "source": [
    "# Fractional bias plot for True vs Range energy for single MCTrack section only\n",
    "if anatype == 'MCBNBMCTrack':\n",
    "    fractional_bias_resolution_plot(xvar='true_E',yvar='full_range_energy',xbins=np.linspace(0.35,2,10),\n",
    "                       plot_bin_distributions = True,\n",
    "                       slicevar = 'true_E',\n",
    "                       slicetitlebase = 'true_range_resolution_%s'%anatype,\n",
    "                       slicebins = np.linspace(-0.1,0.1,20),\n",
    "                       biasplotname = 'true_range_bias_%s.png'%anatype,\n",
    "                       resplotname = 'true_range_resolution_%s.png'%anatype,\n",
    "                       biasmainfig_ylims = (-.05,.05),\n",
    "                       resmainfig_ylims = (0,.05),\n",
    "                       usegausfit = True)\n"
   ]
  },
  {
   "cell_type": "code",
   "execution_count": null,
   "metadata": {
    "collapsed": false
   },
   "outputs": [],
   "source": []
  },
  {
   "cell_type": "code",
   "execution_count": null,
   "metadata": {
    "collapsed": false,
    "scrolled": false
   },
   "outputs": [],
   "source": [
    "# Fractional bias plot for MCS vs true momentum for EXITING MCTRACK SECTION\n",
    "if 'Exiting' in anatype:\n",
    "    fractional_bias_resolution_plot(xvar='true_momentum_inverse',yvar='full_MCS_momentum_inverse',xbins=np.linspace(0.35,4,10),\n",
    "                       plot_bin_distributions = True,\n",
    "                       slicevar = 'true_momentum',\n",
    "                       slicetitlebase = 'MCS_true_exiting_resolution_%s'%anatype,\n",
    "                       slicebins = np.linspace(-2,2,50),\n",
    "                       biasplotname = 'MCS_true_exiting_bias_%s.png'%anatype,\n",
    "                       resplotname = 'MCS_true_exiting_resolution_%s.png'%anatype,\n",
    "                       biasmainfig_ylims = (-.1,.1),\n",
    "                       resmainfig_ylims = (0,.40),\n",
    "                       usegausfit = True,\n",
    "                       extraquery = 'full_MCS_momentum < 7.4')\n",
    "    \n",
    "    mylengths = df['full_length']\n",
    "    plt.figure(figsize=(10,6))\n",
    "    blah = plt.hist(mylengths,bins=np.linspace(0,600,100),alpha=0.5)\n",
    "    blah = plt.grid(True)\n",
    "    blah = plt.title('Track Length Distribution: %s'%anatype,fontsize=16)\n",
    "    plt.xlabel('Length of Track Contained [cm]',fontsize=16)\n",
    "    plt.ylabel('Counts',fontsize=16)\n",
    "   \n",
    "    plotname = 'track_length_distribution_%s.png'%anatype\n",
    "    if write_figures:\n",
    "        print 'WRITING A FIGURE! %s' % (figdir + plotname)\n",
    "        plt.tight_layout()\n",
    "        plt.xlim((50,600))\n",
    "        plt.savefig(figdir + plotname)\n",
    "    "
   ]
  },
  {
   "cell_type": "code",
   "execution_count": null,
   "metadata": {
    "collapsed": false,
    "scrolled": false
   },
   "outputs": [],
   "source": [
    "# Fractional bias plot for MCS vs true momentum for everything except real data\n",
    "if 'Data' not in anatype:\n",
    "    fractional_bias_resolution_plot(xvar='true_momentum_inverse',yvar='full_MCS_momentum_inverse',xbins=np.linspace(0.35,2,10),\n",
    "                       plot_bin_distributions = True,\n",
    "                       slicevar = 'true_momentum',\n",
    "                       slicetitlebase = 'MCS_true_resolution_%s'%anatype,\n",
    "                       slicebins = np.linspace(-0.8,0.8,50),\n",
    "                       biasplotname = 'MCS_true_bias_%s.png'%anatype,\n",
    "                       resplotname = 'MCS_true_resolution_%s.png'%anatype,\n",
    "                       biasmainfig_ylims = (-.1,.1),\n",
    "                       resmainfig_ylims = (0,.2),\n",
    "                       usegausfit = True,\n",
    "                       extraquery = 'full_MCS_momentum < 7.4')\n"
   ]
  },
  {
   "cell_type": "code",
   "execution_count": null,
   "metadata": {
    "collapsed": false
   },
   "outputs": [],
   "source": [
    "# Fractional bias plot for MCS vs true momentum for EXITING MCTRACK SECTION\n",
    "# if anatype == 'MCBNBRecoTrackExiting':\n",
    "#     fractional_bias_resolution_plot(xvar='true_momentum_inverse',yvar='full_MCS_momentum_inverse',xbins=np.linspace(0.35,4,10),\n",
    "#                        plot_bin_distributions = True,\n",
    "#                        slicevar = 'true_momentum',\n",
    "#                        slicetitlebase = 'MCS_true_exiting_resolution_%s'%anatype,\n",
    "#                        slicebins = np.linspace(-0.8,0.8,20),\n",
    "#                        biasplotname = 'MCS_true_exiting_bias_%s.png'%anatype,\n",
    "#                        resplotname = 'MCS_true_exiting_resolution_%s.png'%anatype,\n",
    "#                        biasmainfig_ylims = (-.5,.5),\n",
    "#                        resmainfig_ylims = (0,.15),\n",
    "#                        usegausfit = True)\n"
   ]
  },
  {
   "cell_type": "code",
   "execution_count": null,
   "metadata": {
    "collapsed": false,
    "scrolled": false
   },
   "outputs": [],
   "source": [
    "# Fractional bias plot for MCS vs range momentum for EXITING MCTRACK SECTION\n",
    "# NOTE THAT RANGE MOMENTUM REALLY MEANS \"LENGTH OF TRACK CONTAINED\" HERE!!\n",
    "if anatype == 'MCBNBMCTrackExiting':\n",
    "    fractional_bias_resolution_plot(xvar='true_momentum_inverse',yvar='full_MCS_momentum_inverse',xbins=np.linspace(0,1000,10),\n",
    "                       plot_bin_distributions = True,\n",
    "                       slicevar = 'full_length',\n",
    "                       slicetitlebase = 'MCS_range_exiting_resolution_%s'%anatype,\n",
    "                       slicebins = np.linspace(-0.8,0.8,20),\n",
    "                       biasplotname = 'MCS_range_exiting_bias_%s.png'%anatype,\n",
    "                       resplotname = 'MCS_range_exiting_resolution_%s.png'%anatype,\n",
    "                       biasmainfig_ylims = (-0.2,0.2),\n",
    "                       resmainfig_ylims = (0,0.2),\n",
    "                       usegausfit = True)\n",
    "\n",
    "    "
   ]
  },
  {
   "cell_type": "code",
   "execution_count": null,
   "metadata": {
    "collapsed": false,
    "scrolled": false
   },
   "outputs": [],
   "source": [
    "# Fractional bias plot for MCS vs true momentum for EXITING MCTRACK SECTION\n",
    "# This is broken up for different bins of length!\n",
    "if anatype == 'MCBNBMCTrackExiting':\n",
    "    \n",
    "    extraqueries = ['full_length < 150.',\n",
    "                   'full_length > 150. and full_length < 250.',\n",
    "                   'full_length > 250. and full_length < 350.',\n",
    "                   'full_length > 350. and full_length < 450.']\n",
    "    \n",
    "    counter = 0\n",
    "    temptitles = [ '100_150', '150_250', '250_350', '350_450' ]\n",
    "    \n",
    "    for extraquery in extraqueries:\n",
    "        fractional_bias_resolution_plot(xvar='true_momentum_inverse',yvar='full_MCS_momentum_inverse',xbins=np.linspace(0.35,4,10),\n",
    "                           plot_bin_distributions = True,\n",
    "                           slicevar = 'true_momentum',\n",
    "                           slicetitlebase = 'MCS_true_exiting_resolution_%s'%anatype,\n",
    "                           slicebins = np.linspace(-0.8,0.8,20),\n",
    "                           biasplotname = 'MCS_true_exiting_bias_L%s_%s.png'%(temptitles[counter],anatype),\n",
    "                           resplotname = 'MCS_true_exiting_resolution_L%s_%s.png'%(temptitles[counter],anatype),\n",
    "                           biasmainfig_ylims = (-.5,.5),\n",
    "                           resmainfig_ylims = (0,.3),\n",
    "                           extraquery=extraquery,\n",
    "                           usegausfit = True)\n",
    "        counter += 1\n"
   ]
  },
  {
   "cell_type": "code",
   "execution_count": null,
   "metadata": {
    "collapsed": false,
    "scrolled": false
   },
   "outputs": [],
   "source": [
    "# Nominal fractional bias plot for all samples\n",
    "# For MCBNBSelectedRecoTrack only make plot for the true muons\n",
    "myextraquery = None\n",
    "if anatype == 'MCBNBSelectedRecoTrack':\n",
    "    myextraquery = 'MCT_PDG == 13 or MCT_PDG == -13'\n",
    "# For real data events, only make plot for those events handscanned as \"good\"\n",
    "if anatype == 'DataBNBSelectedRecoTrack':\n",
    "    myextraquery = 'not maybe_bad'\n",
    "    \n",
    "# Trying inverse momentum\n",
    "fractional_bias_resolution_plot(xvar='full_range_momentum_inverse',yvar='full_MCS_momentum_inverse',\n",
    "                     xbins=np.linspace(0.35,2,10),\n",
    "                       plot_bin_distributions = True,\n",
    "                       slicevar = 'full_range_momentum',\n",
    "                       extraquery = myextraquery,\n",
    "                       slicetitlebase = 'MCS_range_resolution_%s'%anatype,\n",
    "                       slicebins = np.linspace(-0.6,0.6,20),\n",
    "                       biasplotname = 'MCS_range_bias_%s.png'%anatype,\n",
    "                       resplotname = 'MCS_range_resolution_%s.png'%anatype,\n",
    "                       biasmainfig_ylims = (-.10,.10),\n",
    "                       resmainfig_ylims = (0,.15),\n",
    "                        usegausfit = True)"
   ]
  },
  {
   "cell_type": "code",
   "execution_count": null,
   "metadata": {
    "collapsed": false
   },
   "outputs": [],
   "source": [
    "##Here I fit the resolution to a realistic resolution equation\n",
    "#def res_eqtn(E,a,b,c):\n",
    "#    return np.sqrt(np.square(a/np.sqrt(E)) + np.square(b/E) + np.square(c))\n",
    "#\n",
    "##def res_eqtn(x,a):\n",
    "##    return a/np.sqrt(x)\n",
    "#\n",
    "##def res_eqtn(E,a,b,c):\n",
    "##    return np.sqrt(np.square(a/np.sqrt(1./E)) + np.square(b/(1./E)) + np.square(c))\n",
    "#\n",
    "#\n",
    "##reco-true/true\n",
    "#def resolution_plot(xvar = 'full_range_momentum', xbins = np.linspace(0.35,1,10),\n",
    "#                   yvar = 'full_MCS_momentum', slicevar = 'full_range_momentum',\n",
    "#                         extraquery = None,\n",
    "#                        plotname = None, mainfig_ylims = None):\n",
    "#    \n",
    "#    #This includes a fit to a realistic resolution equation\n",
    "#    \n",
    "#    binning = xbins\n",
    "#    binwidth = float(binning[1]-binning[0])\n",
    "#    bincenters = binning + (binwidth/2)\n",
    "#    myreses, mystds, myerrs = [], [], []\n",
    "#    myN = []\n",
    "#    for x in xrange(len(binning)-1):\n",
    "#        \n",
    "#        binmin = binning[x]\n",
    "#        binmax = binning[x+1]\n",
    "#        #print \"binmin = %0.2f, binmax = %0.2f\"% ( binmin, binmax )\n",
    "#        myquery = '%s > %f and %s < %f'%(slicevar,binmin,slicevar,binmax)\n",
    "#        if anatype == 'DataBNBSelectedRecoTrack':\n",
    "#            myquery += ' and not maybe_bad'\n",
    "#        if extraquery is not None:\n",
    "#            myquery += ' and %s' % extraquery\n",
    "#            \n",
    "#        mydf = df.query(myquery)\n",
    "#        true = mydf[xvar].values\n",
    "#        reco = mydf[yvar].values\n",
    "#        mymean = ((reco-true)/true).mean()\n",
    "#        mystd = ((reco-true)/true).std()\n",
    "#        #Error of standard deviation is sigma/sqrt(2N)\n",
    "#        myerr = mystd / np.sqrt( 2 * float(len(true)) )\n",
    "#        myN.append(len(true))\n",
    "#        myreses.append( mymean )\n",
    "#        mystds.append( mystd )\n",
    "#        myerrs.append( myerr )\n",
    "#            \n",
    "#    plt.figure(figsize=(10,6))\n",
    "#    plt.errorbar(bincenters[:-1],mystds,yerr=myerrs,fmt='o--',label='Std of Distribution, Errors = std/sqrt(2N)')\n",
    "#    plt.ylabel('std($\\\\frac{%s - %s}{%s}$)'%(latextitles[yvar],latextitles[xvar],latextitles[xvar]),fontsize=25)\n",
    "#    plt.xlabel('%s'%titles[xvar],fontsize=15)\n",
    "#    plt.grid(True)\n",
    "#    t = plt.title('Momentum Resolution: %s' % titles[anatype],fontsize=16)\n",
    "#    #move the title up a bit\n",
    "#    t.set_y(1.04) \n",
    "#                    \n",
    "#    if mainfig_ylims is not None:\n",
    "#        blah = plt.ylim(mainfig_ylims)\n",
    "#    if write_figures and plotname is not None:\n",
    "#        print \" \\n\\n Writing the main figure!! %s \\n\\n\" % (figdir+plotname)\n",
    "#        plt.tight_layout()\n",
    "#        plt.savefig(figdir + plotname)\n",
    "#    \n",
    "##     if draw_fit:\n",
    "##         popt, pcov = curve_fit(res_eqtn, bincenters[:-1], mystds, sigma=myerrs)\n",
    "#        \n",
    "##         fitx = np.linspace(0.35,1,100)\n",
    "##         fity = res_eqtn(fitx,popt[0],popt[1],popt[2])\n",
    "##         labelstring = 'Resolution Fit: '\n",
    "##         labelstring += '$[\\\\frac{a}{\\sqrt{E}} \\circ \\\\frac{b}{E} \\circ c]$'\n",
    "##         plt.plot(fitx,fity,'r-',label=labelstring)\n",
    "#   \n",
    "##         plt.legend(loc='best')\n",
    "#    \n",
    "##         return popt, pcov\n",
    "##     else:\n",
    "##         plt.legend(loc='best')\n",
    "##         return (-1, -1)"
   ]
  },
  {
   "cell_type": "code",
   "execution_count": null,
   "metadata": {
    "collapsed": false,
    "scrolled": false
   },
   "outputs": [],
   "source": [
    "## Fractional resolution plot for True vs Range energy for single MCTrack section only\n",
    "#if anatype == 'SingleMuonMCTrack':\n",
    "#    resolution_plot(xvar='true_E',yvar='full_range_energy',xbins=np.linspace(0.35,2,10),\n",
    "#                       slicevar = 'full_range_energy',\n",
    "#                       plotname = 'true_range_resolution_%s.png'%anatype,\n",
    "#                       mainfig_ylims = (0,.05))\n",
    "#   \n",
    "## Nominal fractional bias plot for all samples\n",
    "## For MCBNBSelectedRecoTrack only plot for the true muons\n",
    "#myextraquery = None\n",
    "#if anatype == 'MCBNBSelectedRecoTrack':\n",
    "#    myextraquery = 'MCT_PDG == 13 or MCT_PDG == -13'\n",
    "## For real data events, only make plot for those events handscanned as \"good\"\n",
    "#if anatype == 'DataBNBSelectedRecoTrack':\n",
    "#    myextraquery = 'not maybe_bad'\n",
    "#    w\n",
    "#resolution_plot(xvar='full_range_momentum',yvar='full_MCS_momentum',xbins=np.linspace(0.35,2,10),\n",
    "#                       slicevar = 'full_range_momentum',\n",
    "#                       extraquery = myextraquery,\n",
    "#                       plotname = 'MCS_range_resolution_%s.png'%anatype,\n",
    "#                       mainfig_ylims = (0,.25))\n",
    "#"
   ]
  },
  {
   "cell_type": "code",
   "execution_count": null,
   "metadata": {
    "collapsed": true
   },
   "outputs": [],
   "source": []
  },
  {
   "cell_type": "code",
   "execution_count": null,
   "metadata": {
    "collapsed": true
   },
   "outputs": [],
   "source": []
  },
  {
   "cell_type": "code",
   "execution_count": null,
   "metadata": {
    "collapsed": false
   },
   "outputs": [],
   "source": [
    "segdf.columns.values"
   ]
  },
  {
   "cell_type": "code",
   "execution_count": null,
   "metadata": {
    "collapsed": false
   },
   "outputs": [],
   "source": [
    "segdf.hist('llbf',bins=np.linspace(0,1600,100))\n"
   ]
  },
  {
   "cell_type": "code",
   "execution_count": null,
   "metadata": {
    "collapsed": false,
    "scrolled": false
   },
   "outputs": [],
   "source": [
    "\n",
    "myquery = 'llbf < 1500'\n",
    "myx = segdf.query(myquery)['llbf'].values\n",
    "myy = segdf.query(myquery)['full_MCS_E'].values\n",
    "blah = plt.hist2d(myx,myy,bins=100,cmin=1)\n",
    "blah = plt.colorbar()"
   ]
  },
  {
   "cell_type": "code",
   "execution_count": null,
   "metadata": {
    "collapsed": true
   },
   "outputs": [],
   "source": []
  },
  {
   "cell_type": "code",
   "execution_count": null,
   "metadata": {
    "collapsed": false
   },
   "outputs": [],
   "source": [
    "def beta(true_p_GEV):\n",
    "    return np.sqrt( 1 - ((0.106*0.106)/(true_p_GEV * true_p_GEV + 0.106*0.106)) )\n",
    "\n",
    "def func(x,a,c):\n",
    "    return (a/(x*x)) + c\n",
    "\n",
    "def highland_modified(p):\n",
    "    a = 0.1049\n",
    "    c = 11.0038\n",
    "    return func(p,a,c)/p*beta(p)\n",
    "\n",
    "def highland_normal(p):\n",
    "    return 13.6 / p*beta(p)\n",
    "\n",
    "\n",
    "myps = np.linspace(0.1,4,100)\n",
    "myhl = highland_modified(myps)\n",
    "myhl_normal = highland_normal(myps)\n",
    "\n",
    "plt.figure(figsize=(10,6))\n",
    "plt.plot(myps,myhl,label='14cm Segment Highland With Momentum-Dependent Constant')\n",
    "plt.plot(myps,myhl_normal,label='14cm Segment Highland With 13.6 Constant')\n",
    "plt.legend()\n",
    "plt.grid(True)\n",
    "plt.ylim((0,20))\n",
    "plt.xlabel('Segment Momentum [GeV]',fontsize=16)\n",
    "plt.ylabel('RMS Angular Scatter [mrad]',fontsize=16)\n",
    "plt.title('Highland Formula Visualized in Two Forms',fontsize=16)"
   ]
  },
  {
   "cell_type": "code",
   "execution_count": null,
   "metadata": {
    "collapsed": false
   },
   "outputs": [],
   "source": [
    "segdf.hist('n_traj_points',bins=np.linspace(0,100,102))"
   ]
  },
  {
   "cell_type": "code",
   "execution_count": null,
   "metadata": {
    "collapsed": false
   },
   "outputs": [],
   "source": [
    "np.mean(segdf['n_traj_points'])"
   ]
  },
  {
   "cell_type": "code",
   "execution_count": null,
   "metadata": {
    "collapsed": true
   },
   "outputs": [],
   "source": []
  }
 ],
 "metadata": {
  "kernelspec": {
   "display_name": "Python 2",
   "language": "python",
   "name": "python2"
  },
  "language_info": {
   "codemirror_mode": {
    "name": "ipython",
    "version": 2
   },
   "file_extension": ".py",
   "mimetype": "text/x-python",
   "name": "python",
   "nbconvert_exporter": "python",
   "pygments_lexer": "ipython2",
   "version": "2.7.5"
  }
 },
 "nbformat": 4,
 "nbformat_minor": 0
}
